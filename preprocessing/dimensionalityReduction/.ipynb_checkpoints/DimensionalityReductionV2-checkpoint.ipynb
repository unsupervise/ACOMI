{
 "cells": [
  {
   "cell_type": "code",
   "execution_count": 1,
   "metadata": {},
   "outputs": [
    {
     "ename": "ModuleNotFoundError",
     "evalue": "No module named 'config'",
     "output_type": "error",
     "traceback": [
      "\u001b[0;31m---------------------------------------------------------------------------\u001b[0m",
      "\u001b[0;31mModuleNotFoundError\u001b[0m                       Traceback (most recent call last)",
      "\u001b[0;32m<ipython-input-1-c5eb546abb74>\u001b[0m in \u001b[0;36m<module>\u001b[0;34m\u001b[0m\n\u001b[1;32m     12\u001b[0m \u001b[0;32mfrom\u001b[0m \u001b[0msklearn\u001b[0m\u001b[0;34m.\u001b[0m\u001b[0mdecomposition\u001b[0m \u001b[0;32mimport\u001b[0m \u001b[0mPCA\u001b[0m\u001b[0;34m\u001b[0m\u001b[0;34m\u001b[0m\u001b[0m\n\u001b[1;32m     13\u001b[0m \u001b[0;32mimport\u001b[0m \u001b[0mglob\u001b[0m\u001b[0;34m\u001b[0m\u001b[0;34m\u001b[0m\u001b[0m\n\u001b[0;32m---> 14\u001b[0;31m \u001b[0;32mimport\u001b[0m \u001b[0mconfig\u001b[0m\u001b[0;34m\u001b[0m\u001b[0;34m\u001b[0m\u001b[0m\n\u001b[0m\u001b[1;32m     15\u001b[0m \u001b[0;32mfrom\u001b[0m \u001b[0mtools\u001b[0m \u001b[0;32mimport\u001b[0m \u001b[0;34m*\u001b[0m\u001b[0;34m\u001b[0m\u001b[0;34m\u001b[0m\u001b[0m\n\u001b[1;32m     16\u001b[0m \u001b[0;32mimport\u001b[0m \u001b[0mmatplotlib\u001b[0m\u001b[0;34m.\u001b[0m\u001b[0mpyplot\u001b[0m \u001b[0;32mas\u001b[0m \u001b[0mplt\u001b[0m\u001b[0;34m\u001b[0m\u001b[0;34m\u001b[0m\u001b[0m\n",
      "\u001b[0;31mModuleNotFoundError\u001b[0m: No module named 'config'"
     ]
    }
   ],
   "source": [
    "%load_ext autoreload\n",
    "%autoreload 2\n",
    "import warnings\n",
    "warnings.filterwarnings(\"ignore\")\n",
    "import sys  \n",
    "#sys.path.insert(0, 'Encoding/')\n",
    "import json\n",
    "import os\n",
    "import numpy as np\n",
    "from tqdm import tqdm\n",
    "from natsort import natsorted\n",
    "from sklearn.decomposition import PCA\n",
    "import glob\n",
    "import config\n",
    "from tools import *\n",
    "import matplotlib.pyplot as plt"
   ]
  },
  {
   "cell_type": "code",
   "execution_count": 2,
   "metadata": {},
   "outputs": [],
   "source": [
    "# load encoding methods\n",
    "vit_models = list(config.vit_models.keys())\n",
    "others = list(config.model_handle_map.keys())\n",
    "all_methods = vit_models + others\n",
    "d = 53"
   ]
  },
  {
   "cell_type": "code",
   "execution_count": 3,
   "metadata": {},
   "outputs": [
    {
     "ename": "FileNotFoundError",
     "evalue": "[Errno 2] No such file or directory: 'Encoding/results/vit_b16/'",
     "output_type": "error",
     "traceback": [
      "\u001b[0;31m---------------------------------------------------------------------------\u001b[0m",
      "\u001b[0;31mFileNotFoundError\u001b[0m                         Traceback (most recent call last)",
      "\u001b[0;32m<ipython-input-3-e578d8f3f830>\u001b[0m in \u001b[0;36m<module>\u001b[0;34m\u001b[0m\n\u001b[0;32m----> 1\u001b[0;31m \u001b[0mdata\u001b[0m \u001b[0;34m=\u001b[0m \u001b[0mload_encoded_data\u001b[0m\u001b[0;34m(\u001b[0m\u001b[0mall_methods\u001b[0m\u001b[0;34m[\u001b[0m\u001b[0;36m0\u001b[0m\u001b[0;34m]\u001b[0m\u001b[0;34m,\u001b[0m \u001b[0mverbose\u001b[0m\u001b[0;34m=\u001b[0m\u001b[0;32mFalse\u001b[0m\u001b[0;34m)\u001b[0m\u001b[0;34m\u001b[0m\u001b[0;34m\u001b[0m\u001b[0m\n\u001b[0m\u001b[1;32m      2\u001b[0m \u001b[0mscaler\u001b[0m \u001b[0;34m=\u001b[0m \u001b[0mStandardScaler\u001b[0m\u001b[0;34m(\u001b[0m\u001b[0;34m)\u001b[0m\u001b[0;34m\u001b[0m\u001b[0;34m\u001b[0m\u001b[0m\n\u001b[1;32m      3\u001b[0m \u001b[0mdata\u001b[0m \u001b[0;34m=\u001b[0m \u001b[0mscaler\u001b[0m\u001b[0;34m.\u001b[0m\u001b[0mfit_transform\u001b[0m\u001b[0;34m(\u001b[0m\u001b[0mdata\u001b[0m\u001b[0;34m)\u001b[0m\u001b[0;34m\u001b[0m\u001b[0;34m\u001b[0m\u001b[0m\n\u001b[1;32m      4\u001b[0m \u001b[0mpca\u001b[0m \u001b[0;34m=\u001b[0m \u001b[0mPCA\u001b[0m\u001b[0;34m(\u001b[0m\u001b[0mn_components\u001b[0m\u001b[0;34m=\u001b[0m\u001b[0md\u001b[0m\u001b[0;34m)\u001b[0m\u001b[0;34m\u001b[0m\u001b[0;34m\u001b[0m\u001b[0m\n\u001b[1;32m      5\u001b[0m \u001b[0mreducedData\u001b[0m \u001b[0;34m=\u001b[0m \u001b[0mpca\u001b[0m\u001b[0;34m.\u001b[0m\u001b[0mfit_transform\u001b[0m\u001b[0;34m(\u001b[0m\u001b[0mdata\u001b[0m\u001b[0;34m)\u001b[0m\u001b[0;34m\u001b[0m\u001b[0;34m\u001b[0m\u001b[0m\n",
      "\u001b[0;32m~/Bureau/Acomi/MVMCC/preProcessing/Encoding/tools.py\u001b[0m in \u001b[0;36mload_encoded_data\u001b[0;34m(method, verbose)\u001b[0m\n\u001b[1;32m     12\u001b[0m     \u001b[0mdf\u001b[0m \u001b[0;34m=\u001b[0m \u001b[0;34m[\u001b[0m\u001b[0;34m]\u001b[0m\u001b[0;34m\u001b[0m\u001b[0;34m\u001b[0m\u001b[0m\n\u001b[1;32m     13\u001b[0m     \u001b[0mfolder\u001b[0m \u001b[0;34m=\u001b[0m \u001b[0;34mr\"Encoding/results/{}/\"\u001b[0m\u001b[0;34m.\u001b[0m\u001b[0mformat\u001b[0m\u001b[0;34m(\u001b[0m\u001b[0mmethod\u001b[0m\u001b[0;34m)\u001b[0m\u001b[0;34m\u001b[0m\u001b[0;34m\u001b[0m\u001b[0m\n\u001b[0;32m---> 14\u001b[0;31m     \u001b[0;32mfor\u001b[0m \u001b[0mfilename\u001b[0m \u001b[0;32min\u001b[0m \u001b[0mnatsorted\u001b[0m\u001b[0;34m(\u001b[0m\u001b[0mos\u001b[0m\u001b[0;34m.\u001b[0m\u001b[0mlistdir\u001b[0m\u001b[0;34m(\u001b[0m\u001b[0mfolder\u001b[0m\u001b[0;34m)\u001b[0m\u001b[0;34m,\u001b[0m \u001b[0mkey\u001b[0m\u001b[0;34m=\u001b[0m\u001b[0;32mlambda\u001b[0m \u001b[0mx\u001b[0m\u001b[0;34m:\u001b[0m \u001b[0mx\u001b[0m\u001b[0;34m.\u001b[0m\u001b[0mlower\u001b[0m\u001b[0;34m(\u001b[0m\u001b[0;34m)\u001b[0m\u001b[0;34m)\u001b[0m\u001b[0;34m:\u001b[0m\u001b[0;34m\u001b[0m\u001b[0;34m\u001b[0m\u001b[0m\n\u001b[0m\u001b[1;32m     15\u001b[0m         \u001b[0mfile\u001b[0m \u001b[0;34m=\u001b[0m \u001b[0mopen\u001b[0m\u001b[0;34m(\u001b[0m\u001b[0mos\u001b[0m\u001b[0;34m.\u001b[0m\u001b[0mpath\u001b[0m\u001b[0;34m.\u001b[0m\u001b[0mjoin\u001b[0m\u001b[0;34m(\u001b[0m\u001b[0mfolder\u001b[0m\u001b[0;34m,\u001b[0m \u001b[0mfilename\u001b[0m\u001b[0;34m)\u001b[0m\u001b[0;34m)\u001b[0m\u001b[0;34m\u001b[0m\u001b[0;34m\u001b[0m\u001b[0m\n\u001b[1;32m     16\u001b[0m         \u001b[0mdata\u001b[0m \u001b[0;34m=\u001b[0m \u001b[0mjson\u001b[0m\u001b[0;34m.\u001b[0m\u001b[0mload\u001b[0m\u001b[0;34m(\u001b[0m\u001b[0mfile\u001b[0m\u001b[0;34m)\u001b[0m\u001b[0;34m\u001b[0m\u001b[0;34m\u001b[0m\u001b[0m\n",
      "\u001b[0;31mFileNotFoundError\u001b[0m: [Errno 2] No such file or directory: 'Encoding/results/vit_b16/'"
     ]
    }
   ],
   "source": [
    "data = load_encoded_data(all_methods[0], verbose=False)\n",
    "scaler = StandardScaler()\n",
    "data = scaler.fit_transform(data)\n",
    "pca = PCA(n_components=d)\n",
    "reducedData = pca.fit_transform(data)\n",
    "sqrt = np.sqrt(pca.explained_variance_)\n",
    "#reducedData = sqrt * reducedData\n"
   ]
  },
  {
   "cell_type": "code",
   "execution_count": 12,
   "metadata": {
    "scrolled": true
   },
   "outputs": [
    {
     "name": "stdout",
     "output_type": "stream",
     "text": [
      "vit_b16: 0.5016231390400047\n",
      "vit_b32: 0.5215888646939661\n",
      "vit_l16: 0.49468014801114163\n",
      "vit_l32: 0.44044741609583066\n",
      "efficientnetv2-s: 0.634863167763164\n",
      "efficientnetv2-m: 0.6261687487300314\n",
      "efficientnetv2-l: 0.6259749334217509\n",
      "efficientnetv2-s-21k: 0.6337752466607893\n",
      "efficientnetv2-m-21k: 0.6322269679805009\n",
      "efficientnetv2-l-21k: 0.6198745829669504\n",
      "efficientnetv2-xl-21k: 0.6316400265043638\n",
      "efficientnetv2-b0-21k: 0.6574479147390444\n",
      "efficientnetv2-b1-21k: 0.6467531608777166\n",
      "efficientnetv2-b2-21k: 0.6970957130881288\n",
      "efficientnetv2-b3-21k: 0.6499269362176582\n",
      "efficientnetv2-s-21k-ft1k: 0.6202480523187739\n",
      "efficientnetv2-m-21k-ft1k: 0.5851134996550643\n",
      "efficientnetv2-l-21k-ft1k: 0.584309162457543\n",
      "efficientnetv2-xl-21k-ft1k: 0.5404672417965328\n",
      "efficientnetv2-b0-21k-ft1k: 0.6305212707618187\n",
      "efficientnetv2-b1-21k-ft1k: 0.6133115813064639\n",
      "efficientnetv2-b2-21k-ft1k: 0.6475221316864004\n",
      "efficientnetv2-b3-21k-ft1k: 0.6070579118610591\n",
      "efficientnetv2-b0: 0.6463686880251158\n",
      "efficientnetv2-b1: 0.6699823318157104\n",
      "efficientnetv2-b2: 0.6735384843804774\n",
      "efficientnetv2-b3: 0.6462925169231355\n",
      "efficientnet_b0: 0.5880619154187415\n",
      "efficientnet_b1: 0.5698873776683687\n",
      "efficientnet_b2: 0.555390324098438\n",
      "efficientnet_b3: 0.5384812720492633\n",
      "efficientnet_b4: 0.594529023924215\n",
      "efficientnet_b5: 0.6187504115362771\n",
      "efficientnet_b6: 0.6684926402314911\n",
      "efficientnet_b7: 0.6630767487541461\n",
      "inception_v3: 0.5098325248476018\n",
      "inception_resnet_v2: 0.6621173140334815\n",
      "resnet_v1_50: 0.6067406876396121\n",
      "resnet_v1_101: 0.600273713454626\n",
      "resnet_v1_152: 0.6005784403909379\n",
      "resnet_v2_50: 0.587424346763018\n",
      "resnet_v2_101: 0.5844753033572776\n",
      "resnet_v2_152: 0.5854100562377785\n",
      "nasnet_large: 0.5122909921421128\n",
      "nasnet_mobile: 0.5753935670956184\n",
      "pnasnet_large: 0.49270844907377115\n",
      "mobilenet_v2_100_224: 0.531159051612723\n",
      "mobilenet_v2_130_224: 0.5312411796612465\n",
      "mobilenet_v2_140_224: 0.5063886914770726\n",
      "mobilenet_v3_small_100_224: 0.5474678797870652\n",
      "mobilenet_v3_small_075_224: 0.5631915141883761\n",
      "mobilenet_v3_large_100_224: 0.5279587229758632\n",
      "mobilenet_v3_large_075_224: 0.527819155571742\n"
     ]
    },
    {
     "name": "stderr",
     "output_type": "stream",
     "text": [
      "38it [00:00, 378.79it/s]"
     ]
    },
    {
     "name": "stdout",
     "output_type": "stream",
     "text": [
      "Saving data...\n"
     ]
    },
    {
     "name": "stderr",
     "output_type": "stream",
     "text": [
      "1000it [00:02, 372.78it/s]\n"
     ]
    }
   ],
   "source": [
    "data = apply_all_pca(all_methods, d=52, verbose=True, save=True)"
   ]
  },
  {
   "cell_type": "code",
   "execution_count": null,
   "metadata": {},
   "outputs": [],
   "source": []
  }
 ],
 "metadata": {
  "kernelspec": {
   "display_name": "Python 3",
   "language": "python",
   "name": "python3"
  },
  "language_info": {
   "codemirror_mode": {
    "name": "ipython",
    "version": 3
   },
   "file_extension": ".py",
   "mimetype": "text/x-python",
   "name": "python",
   "nbconvert_exporter": "python",
   "pygments_lexer": "ipython3",
   "version": "3.7.6"
  }
 },
 "nbformat": 4,
 "nbformat_minor": 4
}
